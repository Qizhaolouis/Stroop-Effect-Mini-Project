{
 "cells": [
  {
   "cell_type": "markdown",
   "metadata": {},
   "source": [
    "### Analyzing the Stroop Effect\n",
    "\n",
    "(1) What is the independent variable? What is the dependent variable?"
   ]
  },
  {
   "cell_type": "markdown",
   "metadata": {},
   "source": [
    "The independent variable is the different participants who and the dependent variable is the time they used in the congruent and incongruent situation."
   ]
  },
  {
   "cell_type": "markdown",
   "metadata": {},
   "source": [
    "(2) What is an appropriate set of hypotheses for this task? What kind of statistical test do you expect to perform? Justify your choices."
   ]
  },
  {
   "cell_type": "markdown",
   "metadata": {},
   "source": [
    "The null hypothesis and the alternative hypothesis should be:\n",
    "\n",
    "$H_0: \\mu_c = \\mu_i$,\n",
    "\n",
    "$H_1: \\mu_c \\neq \\mu_i$,\n",
    "\n",
    "Or equally:\n",
    "\n",
    "$H_0: \\mu_c - \\mu_i = 0$,\n",
    "\n",
    "$H_1: \\mu_c - \\mu_i \\neq 0 $,\n",
    "\n",
    "where $\\mu_0$ is the mean population time in congruent situation and $\\mu_1$ is the mean population time of the incongruent situation.\n",
    "I plan to perform the paired t-test on the data. \n",
    "First of all, the sample size is relatively small so we cannot use normal distribution to perform the test, so we have to choose t test.\n",
    "Second of all, becauese the dependent variable is related in the two groups, we have to use the \"matched-pair\" t-test rather than the usual two sample t-test."
   ]
  },
  {
   "cell_type": "markdown",
   "metadata": {},
   "source": [
    "(3) Report some descriptive statistics regarding this dataset. Include at least one measure of central tendency and at least one measure of variability. The name of the data file is 'stroopdata.csv'."
   ]
  },
  {
   "cell_type": "code",
   "execution_count": 42,
   "metadata": {},
   "outputs": [
    {
     "name": "stdout",
     "output_type": "stream",
     "text": [
      "   Congruent  Incongruent\n",
      "0     12.079       19.278\n",
      "1     16.791       18.741\n",
      "2      9.564       21.214\n",
      "3      8.630       15.687\n",
      "4     14.669       22.803\n",
      "5     12.238       20.878\n",
      "6     14.692       24.572\n",
      "7      8.987       17.394\n",
      "8      9.401       20.762\n",
      "9     14.480       26.282\n",
      "mean is:  Congruent      14.051125\n",
      "Incongruent    22.015917\n",
      "dtype: float64 median is:  Congruent      14.3565\n",
      "Incongruent    21.0175\n",
      "dtype: float64\n",
      "standard deviation is:  Congruent      3.559358\n",
      "Incongruent    4.797057\n",
      "dtype: float64\n"
     ]
    }
   ],
   "source": [
    "# import pandas\n",
    "import pandas as pd\n",
    "# read data and show the first 10 rows\n",
    "data=\"stroopdata.csv\"\n",
    "stroop=pd.read_csv(data)\n",
    "print(stroop.head(10))\n",
    "# print the descriptive statistics\n",
    "print(\"mean is: \",stroop.mean(),\"median is: \",stroop.median())\n",
    "print(\"standard deviation is: \" ,stroop.std())"
   ]
  },
  {
   "cell_type": "markdown",
   "metadata": {},
   "source": [
    "(4) Provide one or two visualizations that show the distribution of the sample data. Write one or two sentences noting what you observe about the plot or plots."
   ]
  },
  {
   "cell_type": "code",
   "execution_count": 31,
   "metadata": {},
   "outputs": [
    {
     "data": {
      "image/png": "[encoded data removed]",
      "text/plain": [
       "<matplotlib.figure.Figure at 0x7efe915fdcc0>"
      ]
     },
     "metadata": {},
     "output_type": "display_data"
    }
   ],
   "source": [
    "# import matplotlib\n",
    "import matplotlib.mlab as mlab\n",
    "import matplotlib.pyplot as plt\n",
    "# set all the parameters\n",
    "num_bins = len(before)\n",
    "mu1=before.mean()\n",
    "sigma1=before.std()\n",
    "mu2=after.mean()\n",
    "sigma2=after.std()\n",
    "# the histogram of the before data\n",
    "n, bins, patches = plt.hist(before, num_bins, normed=1, facecolor='aqua', alpha=0.5)\n",
    "# add a curve\n",
    "y = mlab.normpdf(bins, mu1, sigma1)\n",
    "plt.plot(bins, y, 'b--')\n",
    "\n",
    "# the histogram of the before data\n",
    "n, bins, patches = plt.hist(after, num_bins, normed=1, facecolor='coral', alpha=0.5)\n",
    "# add a curve\n",
    "y = mlab.normpdf(bins, mu2, sigma2)\n",
    "plt.plot(bins, y, 'r--')\n",
    "plt.xlabel('Seconds')\n",
    "plt.title(\"The Stroop Effect\")\n",
    "plt.show()"
   ]
  },
  {
   "cell_type": "markdown",
   "metadata": {},
   "source": [
    "From the plot it is obvious that the the incongruent condition does have an effect on the participants since it took them more time to finish the experiment."
   ]
  },
  {
   "cell_type": "markdown",
   "metadata": {},
   "source": [
    "(5) Now, perform the statistical test and report the results. What is the confidence level and your critical statistic value? Do you reject the null hypothesis or fail to reject it? Come to a conclusion in terms of the experiment task. Did the results match up with your expectations?"
   ]
  },
  {
   "cell_type": "code",
   "execution_count": 38,
   "metadata": {},
   "outputs": [
    {
     "name": "stdout",
     "output_type": "stream",
     "text": [
      "[-2.80733568  2.80733568]\n",
      "Ttest_relResult(statistic=-8.020706944109957, pvalue=4.1030005857111781e-08)\n"
     ]
    }
   ],
   "source": [
    "# import stats\n",
    "from scipy import stats\n",
    "df=len(before)-1\n",
    "before=stroop.Congruent\n",
    "after=stroop.Incongruent\n",
    "# paired t-test\n",
    "result=stats.ttest_rel(a = before,\n",
    "                b = after)\n",
    "reject=stats.t.ppf([0.005,0.995], df)\n",
    "print(reject)\n",
    "print(result)"
   ]
  },
  {
   "cell_type": "markdown",
   "metadata": {},
   "source": [
    "We reject the null hypothesis if the t statistics is less than -2.807 or greater than 2.807.\n",
    "\n",
    "According to the result of the paired t-test, the t statistics is -8.02 and the p-value is much smaller than 0.01, which means we can reject the null hypothesis with a significance of 0.01.\n",
    "\n",
    "Therefore, it does match my expectations."
   ]
  }
 ],
 "metadata": {
  "kernelspec": {
   "display_name": "Python 3",
   "language": "python",
   "name": "python3"
  },
  "language_info": {
   "codemirror_mode": {
    "name": "ipython",
    "version": 3
   },
   "file_extension": ".py",
   "mimetype": "text/x-python",
   "name": "python",
   "nbconvert_exporter": "python",
   "pygments_lexer": "ipython3",
   "version": "3.6.3"
  }
 },
 "nbformat": 4,
 "nbformat_minor": 2
}
